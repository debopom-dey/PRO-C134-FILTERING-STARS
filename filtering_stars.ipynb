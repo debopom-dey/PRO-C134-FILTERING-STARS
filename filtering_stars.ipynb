{
 "cells": [
  {
   "cell_type": "code",
   "execution_count": 28,
   "metadata": {},
   "outputs": [],
   "source": [
    "import csv\n",
    "import pandas as pd"
   ]
  },
  {
   "cell_type": "code",
   "execution_count": 29,
   "metadata": {},
   "outputs": [
    {
     "name": "stdout",
     "output_type": "stream",
     "text": [
      "   Unnamed: 0       Star_name    Distance  Mass  Radius     Gravity\n",
      "0           0             Sun    0.000016   1.0    1.00  274.269161\n",
      "1           1          Sirius    8.600000   2.1    1.71  196.971800\n",
      "2           2         Canopus  310.000000  15.0   71.00    0.816115\n",
      "3           3  Alpha Centauri    4.400000   1.1    1.20  209.511165\n",
      "4           4        Arcturus   37.000000   1.1   26.00    0.446296\n"
     ]
    }
   ],
   "source": [
    "df = pd.read_csv('star_with_gravity.csv')\n",
    "print(df.head())"
   ]
  },
  {
   "cell_type": "code",
   "execution_count": 30,
   "metadata": {},
   "outputs": [],
   "source": [
    "df.drop(['Unnamed: 0'],axis=1,inplace=True)"
   ]
  },
  {
   "cell_type": "code",
   "execution_count": 31,
   "metadata": {},
   "outputs": [
    {
     "name": "stdout",
     "output_type": "stream",
     "text": [
      "        Star_name    Distance  Mass  Radius     Gravity\n",
      "0             Sun    0.000016   1.0    1.00  274.269161\n",
      "1          Sirius    8.600000   2.1    1.71  196.971800\n",
      "2         Canopus  310.000000  15.0   71.00    0.816115\n",
      "3  Alpha Centauri    4.400000   1.1    1.20  209.511165\n",
      "4        Arcturus   37.000000   1.1   26.00    0.446296\n"
     ]
    }
   ],
   "source": [
    "print(df.head())"
   ]
  },
  {
   "cell_type": "code",
   "execution_count": 32,
   "metadata": {},
   "outputs": [],
   "source": [
    "rows=[]\n",
    "with open('star_with_gravity.csv', 'r') as f:\n",
    "    csv_r = csv.reader(f)\n",
    "    for star in csv_r:\n",
    "        rows.append(star)"
   ]
  },
  {
   "cell_type": "code",
   "execution_count": 58,
   "metadata": {},
   "outputs": [],
   "source": [
    "headers = rows[0]\n",
    "star_data = rows[1:]"
   ]
  },
  {
   "cell_type": "code",
   "execution_count": 59,
   "metadata": {},
   "outputs": [],
   "source": [
    "final_list = []\n",
    "\n",
    "for star in star_data:\n",
    "    if float(star[2]) < 100:\n",
    "        if float(star[5]) > 150 and float(star[5]) < 350:\n",
    "            final_list.append(star[1:])\n"
   ]
  },
  {
   "cell_type": "code",
   "execution_count": 60,
   "metadata": {},
   "outputs": [],
   "source": [
    "new_data = pd.DataFrame(\n",
    "    list(final_list),\n",
    "    columns=[\"Star Name\", \"Distance\", \"Mass\", \"Radius\", \"Gravity\"],\n",
    ")\n",
    "   "
   ]
  },
  {
   "cell_type": "code",
   "execution_count": 61,
   "metadata": {},
   "outputs": [
    {
     "name": "stdout",
     "output_type": "stream",
     "text": [
      "                            Star Name     Distance         Mass      Radius  \\\n",
      "0                                 Sun  0.000015813          1.0         1.0   \n",
      "1                              Sirius          8.6          2.1        1.71   \n",
      "2                      Alpha Centauri          4.4          1.1         1.2   \n",
      "3                              Altair           17          1.8         1.8   \n",
      "4                           Fomalhaut           25          1.9         1.8   \n",
      "5                            Tau Ceti         11.9        0.783       0.893   \n",
      "6                       Delta Pavonis        19.92        0.991        1.22   \n",
      "7                             Titawin        44.25         1.27        1.48   \n",
      "8                          54 Piscium         36.1         0.76        0.94   \n",
      "9              2MASSW J0045214+163445           57  0.021955524  0.16647606   \n",
      "10    WISEP J004701.06+680352.1Â [fr]           40  0.011455056   0.1335919   \n",
      "11      2MASS J03264225-2102057Â [de]           80  0.017182584   0.1335919   \n",
      "12            2MASS J03552337+1133437         29.8   0.01909176  0.13564716   \n",
      "13            2MASS J04433764+0002040           82  0.021000936  0.18291814   \n",
      "14      2MASS J05012406-0010452Â [de]           64  0.020046348  0.14181294   \n",
      "15                LSR 0602+3910Â [de]         34.6  0.026728464  0.14489583   \n",
      "16      2MASS J10224821+5825453Â [de]           60  0.025773876  0.14489583   \n",
      "17  DENIS-P J142527.97-365023.4Â [de]           38  0.020046348  0.13564716   \n",
      "18             2MASSW J2206450-421721           93  0.021000936  0.13667479   \n",
      "19             2MASSW J2244316+204343           56  0.011455056  0.13256427   \n",
      "20            2MASS J23224684-3133231           56  0.022910112  0.14284057   \n",
      "\n",
      "               Gravity  \n",
      "0    274.2691614595739  \n",
      "1     196.971799550325  \n",
      "2   209.51116500384123  \n",
      "3   152.37175636642996  \n",
      "4    160.8368539423427  \n",
      "5   269.29967110479345  \n",
      "6   182.61269753187165  \n",
      "7   159.02202111653529  \n",
      "8    235.9037604224493  \n",
      "9    217.2787267524544  \n",
      "10    176.041046716483  \n",
      "11   264.0615700747245  \n",
      "12   284.5781383444831  \n",
      "13  172.14803783504922  \n",
      "14  273.38867657214803  \n",
      "15   349.1718362013974  \n",
      "16   336.7014134799189  \n",
      "17  298.80704526170723  \n",
      "18   308.3463412722992  \n",
      "19  178.78094402431122  \n",
      "20   307.9647729940028  \n"
     ]
    }
   ],
   "source": [
    "print(new_data)"
   ]
  },
  {
   "cell_type": "code",
   "execution_count": 62,
   "metadata": {},
   "outputs": [],
   "source": [
    "new_data.to_csv('Final.csv')"
   ]
  }
 ],
 "metadata": {
  "kernelspec": {
   "display_name": "Python 3",
   "language": "python",
   "name": "python3"
  },
  "language_info": {
   "codemirror_mode": {
    "name": "ipython",
    "version": 3
   },
   "file_extension": ".py",
   "mimetype": "text/x-python",
   "name": "python",
   "nbconvert_exporter": "python",
   "pygments_lexer": "ipython3",
   "version": "3.10.0"
  },
  "orig_nbformat": 4,
  "vscode": {
   "interpreter": {
    "hash": "f73ed9574a1394a35fcd02a9c878d19ab9aaba22225a4e0558c852c190b3e114"
   }
  }
 },
 "nbformat": 4,
 "nbformat_minor": 2
}
